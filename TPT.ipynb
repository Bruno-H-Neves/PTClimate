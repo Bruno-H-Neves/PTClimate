{
 "cells": [
  {
   "cell_type": "markdown",
   "metadata": {},
   "source": [
    "# 0: importacao de bibliotecas\n"
   ]
  },
  {
   "cell_type": "code",
   "execution_count": 1,
   "metadata": {},
   "outputs": [],
   "source": [
    "import pandas as pd\n",
    "import os\n",
    "import matplotlib.pyplot as plt\n",
    "import seaborn as sns\n",
    "import numpy as np\n",
    "import plotly.express as px\n",
    "import matplotlib\n",
    "from tqdm import tqdm\n",
    "from MyFiles import Security"
   ]
  },
  {
   "cell_type": "markdown",
   "metadata": {},
   "source": [
    "## Verificar versoes"
   ]
  },
  {
   "cell_type": "code",
   "execution_count": 2,
   "metadata": {},
   "outputs": [
    {
     "name": "stdout",
     "output_type": "stream",
     "text": [
      "Pandas Version: 1.2.4\n",
      "Seaborn Version: 0.11.1\n",
      "Numpy Version: 1.20.1\n"
     ]
    }
   ],
   "source": [
    "print('Pandas Version:',pd.__version__)\n",
    "print('Seaborn Version:',sns.__version__)\n",
    "print('Numpy Version:',np.__version__)"
   ]
  },
  {
   "cell_type": "markdown",
   "metadata": {},
   "source": [
    "## Funcoes"
   ]
  },
  {
   "cell_type": "code",
   "execution_count": 4,
   "metadata": {},
   "outputs": [],
   "source": [
    "def chose_df(c_df,c_row,c_Lt,c_ind):\n",
    "    #input: Dataframe, lista de features, lista de indices, codigo do indice a filtrar\n",
    "    #output: Dataframe filtrado\n",
    "    #filtra o DataFrame para a feature definida\n",
    "    return c_df.loc[(c_df[c_row] == c_Lt[c_ind])]  \n",
    "\n",
    "def erros_sondas(es_Df,es_Lt):\n",
    "    \n",
    "    #Descobrir os valorers minimos e contar as ocorrencias\n",
    "    dict_failled={'intensidadeVentoKM':0, 'temperatura':0, 'radiacao':0, 'precAcumulada':0,\n",
    "                   'intensidadeVento':0, 'humidade':0, 'pressao':0}\n",
    "    code_error = es_Df.min()  # tenho que definir de forma diferente dos minimos\n",
    "    #print(code_error)\n",
    "    for i in range(len(es_Lt)):\n",
    "        if i>=2:\n",
    "            dict_failled[es_Lt[i]] = es_Df.loc[es_Df[es_Lt[i]]==code_error[i],es_Lt[i]].count()\n",
    "    return dict_failled\n",
    "\n",
    "def rep_error(re_Df,re_Lt):\n",
    "    #input: DataFrame, Lista de features\n",
    "    #output: DataFrame con os erros corrigidos\n",
    "    #reporta  numero de erros encontrados no Dataframe re_Df\n",
    "    for i in range(len(re_Lt)):\n",
    "        if i>1:\n",
    "            re_Df.loc[re_Df[re_Lt[i]]==-99.0,re_Lt[i]]= re_Df[re_Lt[i]].mean()\n",
    "    return re_Df\n",
    "\n"
   ]
  },
  {
   "cell_type": "markdown",
   "metadata": {},
   "source": [
    "# Codigo "
   ]
  },
  {
   "cell_type": "code",
   "execution_count": 5,
   "metadata": {},
   "outputs": [],
   "source": [
    "sec= Security()\n",
    "folder= sec.datasets\n",
    "os.chdir(folder)\n",
    "fil = os.listdir()\n",
    "file_csv = fil[-2]\n",
    "Data_DF = pd.read_csv(file_csv)\n",
    "DF_estation = pd.read_csv('Z.csv')\n",
    "Data_DF.pop('Unnamed: 0') \n",
    "DF_estation.pop('Unnamed: 0') \n",
    "DF_base = Data_DF.copy()\n",
    "feature_list = DF_base.columns                      # Data Features List\n",
    "featureSt_list = DF_estation.columns                # Station Feature List\n",
    "Stations_ID = DF_base[feature_list[1]].unique()     # Station in to Dataset\n",
    "Day_list = Data_DF['D/H Sample'].str[0:10].unique() # Days in to Dataset\n",
    "Day_list.sort()\n",
    "Stations_ID.sort()\n",
    "Error_measure = erros_sondas(DF_base,feature_list)  \n",
    "DF1 = rep_error(DF_base,feature_list)\n",
    "DF_estation['GPS'] = DF_estation['GPS'].map(lambda x: x.lstrip('[').rstrip(']'))\n",
    "new = DF_estation[\"GPS\"].str.split(\",\", n = 1, expand = True)\n",
    "DF_estation[\"X\"]= new[0].astype(float) \n",
    "DF_estation[\"Y\"]= new[1].astype(float)\n"
   ]
  },
  {
   "cell_type": "code",
   "execution_count": 13,
   "metadata": {},
   "outputs": [
    {
     "name": "stdout",
     "output_type": "stream",
     "text": [
      "Dias no Dataset: 20\n",
      " ['2021-11-22' '2021-11-23' '2021-11-24' '2021-11-25' '2021-11-26'\n",
      " '2021-11-27' '2021-11-28' '2021-11-29' '2021-11-30' '2021-12-01'\n",
      " '2021-12-02' '2021-12-03' '2021-12-04' '2021-12-05' '2021-12-06'\n",
      " '2021-12-07' '2021-12-08' '2021-12-09' '2021-12-10' '2021-12-11']\n",
      "\n",
      "Estacoes meteorologicas:185\n",
      " [ 1200501  1200502  1200504  1200506  1200507  1200510  1200511  1200512\n",
      "  1200515  1200521  1200522  1200524  1200531  1200533  1200535  1200541\n",
      "  1200545  1200548  1200551  1200554  1200558  1200559  1200560  1200562\n",
      "  1200567  1200568  1200570  1200571  1200575  1200576  1200579  1210513\n",
      "  1210577  1210604  1210605  1210606  1210611  1210612  1210615  1210616\n",
      "  1210619  1210622  1210630  1210632  1210633  1210635  1210637  1210643\n",
      "  1210644  1210649  1210654  1210655  1210657  1210663  1210666  1210669\n",
      "  1210671  1210683  1210685  1210686  1210687  1210690  1210697  1210698\n",
      "  1210702  1210704  1210705  1210707  1210713  1210716  1210718  1210721\n",
      "  1210724  1210726  1210729  1210734  1210739  1210744  1210746  1210747\n",
      "  1210750  1210762  1210765  1210766  1210767  1210770  1210773  1210776\n",
      "  1210783  1210788  1210789  1210790  1210800  1210803  1210806  1210812\n",
      "  1210824  1210826  1210835  1210837  1210840  1210847  1210848  1210851\n",
      "  1210863  1210864  1210865  1210866  1210867  1210874  1210878  1210881\n",
      "  1210883  1210907  1210932  1210956  1210960  1210965  1210967  1210970\n",
      "  1210972  1210973  1210974  1210975  1210976  1210977  1210978  1210980\n",
      "  1210984  1210986  1210987  1210990  1240546  1240566  1240675  1240971\n",
      "  5210758  6210817  6210879  6212121  6212122  6212123  6212124  6212125\n",
      "  6212126  6213011  6213012  6213013  6213014  6213015  6213016  6213017\n",
      "  6213018  6213019  6213020  6213021  6213022  6213023  6213611  6213612\n",
      "  6213613  6213614  6213615  6213616  6213617  6213619  6213620  6213621\n",
      "  6214521  6214522  6214523  6215360 11217160 11217165 11217217 11217225\n",
      " 11217255 11217370 11217372 11217430 11217510 11217625 11217645 11217710\n",
      " 11217730]\n"
     ]
    }
   ],
   "source": [
    "print(f\"Dias no Dataset: {len(Day_list)}\\n\",Day_list )\n",
    "print(f\"\\nEstacoes meteorologicas:{len(Stations_ID)}\\n\",Stations_ID )"
   ]
  }
 ],
 "metadata": {
  "interpreter": {
   "hash": "b3ba2566441a7c06988d0923437866b63cedc61552a5af99d1f4fb67d367b25f"
  },
  "kernelspec": {
   "display_name": "Python 3.8.8 64-bit ('base': conda)",
   "name": "python3"
  },
  "language_info": {
   "codemirror_mode": {
    "name": "ipython",
    "version": 3
   },
   "file_extension": ".py",
   "mimetype": "text/x-python",
   "name": "python",
   "nbconvert_exporter": "python",
   "pygments_lexer": "ipython3",
   "version": "3.8.8"
  },
  "orig_nbformat": 4
 },
 "nbformat": 4,
 "nbformat_minor": 2
}
